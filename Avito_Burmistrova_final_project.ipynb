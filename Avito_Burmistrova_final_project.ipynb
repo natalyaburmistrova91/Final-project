{
 "cells": [
  {
   "cell_type": "raw",
   "metadata": {},
   "source": [
    "Вам предстоит построить модель, которая в зависимости цены, заголовка, категории и времени размещения объявления предсказывает количество просмотров объявления до конца следующего дня с момента подачи.\n",
    "(https://boosters.pro/champ_4)\n",
    "\n",
    "Описание данных\n",
    "start_time\tВремя подачи объявления (МСК)\n",
    "title\tЗаголовок объявления\n",
    "price\tЦена\n",
    "item_id\tИдентификатор объявления\n",
    "owner_type\tТип владельца объявления (Private – частный пользователь; Company – компания; Shop – владелец магазина на Avito)\n",
    "category\tКатегория объявления (Транспорт, недвижимость и т.д.)\n",
    "subcategory\tПодкатегория объявления\n",
    "param1, param2, param3\tПараметры объявления*. Отсортированы по нахождению в дереве категорий Авито. Можно посмотреть на сайте\n",
    "region\tРегион размещения объявления\n",
    "item_views\tЦелевая переменная, кол-во просмотров объявления\n",
    "\n",
    "* На примере подкатегории «Детская одежда и обувь»\n",
    "• param1 = Вид одежды = «Для мальчиков» \n",
    "• param2 = Предмет одежды = “Верхняя одежда» \n",
    "• param3 = Размер = «50-56 cм (0-2 мес)»"
   ]
  },
  {
   "cell_type": "markdown",
   "metadata": {},
   "source": [
    " $$ RMSLE = \\sum_{i=1}^{n} \\sqrt{\\frac{1}{n} \\big{(} log(p_i+1) - log(y_i+1) \\big{)}^{2} } $$"
   ]
  },
  {
   "cell_type": "code",
   "execution_count": 1,
   "metadata": {},
   "outputs": [],
   "source": [
    "import numpy as np\n",
    "import pandas as pd\n",
    "import matplotlib.pyplot as plt\n",
    "from functools import lru_cache\n",
    "from sklearn.feature_extraction.text import TfidfVectorizer\n",
    "from sklearn.model_selection import train_test_split\n",
    "import re\n",
    "from razdel import tokenize \n",
    "import pymorphy2\n",
    "from scipy.sparse import csc_matrix, vstack, hstack\n",
    "import xgboost as xgb\n",
    "import datetime\n",
    "\n",
    "\n",
    "%matplotlib inline"
   ]
  },
  {
   "cell_type": "code",
   "execution_count": 44,
   "metadata": {},
   "outputs": [],
   "source": [
    "data_train = pd.read_csv('train.csv', sep=',', parse_dates=['start_time']) #nrows=1000)"
   ]
  },
  {
   "cell_type": "code",
   "execution_count": 3,
   "metadata": {
    "scrolled": true
   },
   "outputs": [
    {
     "data": {
      "text/html": [
       "<div>\n",
       "<style scoped>\n",
       "    .dataframe tbody tr th:only-of-type {\n",
       "        vertical-align: middle;\n",
       "    }\n",
       "\n",
       "    .dataframe tbody tr th {\n",
       "        vertical-align: top;\n",
       "    }\n",
       "\n",
       "    .dataframe thead th {\n",
       "        text-align: right;\n",
       "    }\n",
       "</style>\n",
       "<table border=\"1\" class=\"dataframe\">\n",
       "  <thead>\n",
       "    <tr style=\"text-align: right;\">\n",
       "      <th></th>\n",
       "      <th>id</th>\n",
       "      <th>start_time</th>\n",
       "      <th>title</th>\n",
       "      <th>price</th>\n",
       "      <th>item_id</th>\n",
       "      <th>owner_type</th>\n",
       "      <th>category</th>\n",
       "      <th>subcategory</th>\n",
       "      <th>param1</th>\n",
       "      <th>param2</th>\n",
       "      <th>param3</th>\n",
       "      <th>region</th>\n",
       "      <th>item_views</th>\n",
       "    </tr>\n",
       "  </thead>\n",
       "  <tbody>\n",
       "    <tr>\n",
       "      <th>0</th>\n",
       "      <td>328853</td>\n",
       "      <td>2016-12-27 10:38:04</td>\n",
       "      <td>Сандали фирмы Crocs</td>\n",
       "      <td>800</td>\n",
       "      <td>1301822498390501359</td>\n",
       "      <td>Private</td>\n",
       "      <td>Личные вещи</td>\n",
       "      <td>Детская одежда и обувь</td>\n",
       "      <td>Для мальчиков</td>\n",
       "      <td>Обувь</td>\n",
       "      <td>&gt; 36</td>\n",
       "      <td>Москва</td>\n",
       "      <td>3.332205</td>\n",
       "    </tr>\n",
       "    <tr>\n",
       "      <th>1</th>\n",
       "      <td>257639</td>\n",
       "      <td>2016-12-27 15:23:55</td>\n",
       "      <td>Бутсы футбольные Reebok</td>\n",
       "      <td>2000</td>\n",
       "      <td>4439620035274845039</td>\n",
       "      <td>Private</td>\n",
       "      <td>Личные вещи</td>\n",
       "      <td>Детская одежда и обувь</td>\n",
       "      <td>Для мальчиков</td>\n",
       "      <td>Обувь</td>\n",
       "      <td>&gt; 36</td>\n",
       "      <td>Омская область</td>\n",
       "      <td>2.302585</td>\n",
       "    </tr>\n",
       "    <tr>\n",
       "      <th>2</th>\n",
       "      <td>140732</td>\n",
       "      <td>2016-12-28 19:34:15</td>\n",
       "      <td>Nike hypervenom Бутсы</td>\n",
       "      <td>600</td>\n",
       "      <td>4860577743813309218</td>\n",
       "      <td>Private</td>\n",
       "      <td>Личные вещи</td>\n",
       "      <td>Детская одежда и обувь</td>\n",
       "      <td>Для мальчиков</td>\n",
       "      <td>Обувь</td>\n",
       "      <td>&gt; 36</td>\n",
       "      <td>Санкт-Петербург</td>\n",
       "      <td>4.663439</td>\n",
       "    </tr>\n",
       "    <tr>\n",
       "      <th>3</th>\n",
       "      <td>3080</td>\n",
       "      <td>2016-12-26 10:26:02</td>\n",
       "      <td>Сапоги</td>\n",
       "      <td>150</td>\n",
       "      <td>3492530336858889466</td>\n",
       "      <td>Private</td>\n",
       "      <td>Личные вещи</td>\n",
       "      <td>Детская одежда и обувь</td>\n",
       "      <td>Для мальчиков</td>\n",
       "      <td>Обувь</td>\n",
       "      <td>&gt; 36</td>\n",
       "      <td>Тульская область</td>\n",
       "      <td>3.367296</td>\n",
       "    </tr>\n",
       "    <tr>\n",
       "      <th>4</th>\n",
       "      <td>325394</td>\n",
       "      <td>2016-12-26 17:09:19</td>\n",
       "      <td>Кеды 38</td>\n",
       "      <td>500</td>\n",
       "      <td>3559049054931858928</td>\n",
       "      <td>Private</td>\n",
       "      <td>Личные вещи</td>\n",
       "      <td>Детская одежда и обувь</td>\n",
       "      <td>Для мальчиков</td>\n",
       "      <td>Обувь</td>\n",
       "      <td>&gt; 36</td>\n",
       "      <td>Самарская область</td>\n",
       "      <td>2.302585</td>\n",
       "    </tr>\n",
       "  </tbody>\n",
       "</table>\n",
       "</div>"
      ],
      "text/plain": [
       "       id          start_time                    title  price  \\\n",
       "0  328853 2016-12-27 10:38:04      Сандали фирмы Crocs    800   \n",
       "1  257639 2016-12-27 15:23:55  Бутсы футбольные Reebok   2000   \n",
       "2  140732 2016-12-28 19:34:15    Nike hypervenom Бутсы    600   \n",
       "3    3080 2016-12-26 10:26:02                   Сапоги    150   \n",
       "4  325394 2016-12-26 17:09:19                  Кеды 38    500   \n",
       "\n",
       "               item_id owner_type     category             subcategory  \\\n",
       "0  1301822498390501359    Private  Личные вещи  Детская одежда и обувь   \n",
       "1  4439620035274845039    Private  Личные вещи  Детская одежда и обувь   \n",
       "2  4860577743813309218    Private  Личные вещи  Детская одежда и обувь   \n",
       "3  3492530336858889466    Private  Личные вещи  Детская одежда и обувь   \n",
       "4  3559049054931858928    Private  Личные вещи  Детская одежда и обувь   \n",
       "\n",
       "          param1 param2 param3             region  item_views  \n",
       "0  Для мальчиков  Обувь   > 36             Москва    3.332205  \n",
       "1  Для мальчиков  Обувь   > 36     Омская область    2.302585  \n",
       "2  Для мальчиков  Обувь   > 36    Санкт-Петербург    4.663439  \n",
       "3  Для мальчиков  Обувь   > 36   Тульская область    3.367296  \n",
       "4  Для мальчиков  Обувь   > 36  Самарская область    2.302585  "
      ]
     },
     "execution_count": 3,
     "metadata": {},
     "output_type": "execute_result"
    }
   ],
   "source": [
    "data_train.head()"
   ]
  },
  {
   "cell_type": "code",
   "execution_count": 4,
   "metadata": {},
   "outputs": [
    {
     "data": {
      "text/html": [
       "<div>\n",
       "<style scoped>\n",
       "    .dataframe tbody tr th:only-of-type {\n",
       "        vertical-align: middle;\n",
       "    }\n",
       "\n",
       "    .dataframe tbody tr th {\n",
       "        vertical-align: top;\n",
       "    }\n",
       "\n",
       "    .dataframe thead th {\n",
       "        text-align: right;\n",
       "    }\n",
       "</style>\n",
       "<table border=\"1\" class=\"dataframe\">\n",
       "  <thead>\n",
       "    <tr style=\"text-align: right;\">\n",
       "      <th></th>\n",
       "      <th>id</th>\n",
       "      <th>price</th>\n",
       "      <th>item_id</th>\n",
       "      <th>item_views</th>\n",
       "    </tr>\n",
       "  </thead>\n",
       "  <tbody>\n",
       "    <tr>\n",
       "      <th>count</th>\n",
       "      <td>376687.000000</td>\n",
       "      <td>3.766870e+05</td>\n",
       "      <td>3.766870e+05</td>\n",
       "      <td>376687.000000</td>\n",
       "    </tr>\n",
       "    <tr>\n",
       "      <th>mean</th>\n",
       "      <td>211784.700144</td>\n",
       "      <td>2.465498e+05</td>\n",
       "      <td>4.606439e+18</td>\n",
       "      <td>3.483459</td>\n",
       "    </tr>\n",
       "    <tr>\n",
       "      <th>std</th>\n",
       "      <td>122355.459807</td>\n",
       "      <td>1.126163e+07</td>\n",
       "      <td>2.663233e+18</td>\n",
       "      <td>1.019757</td>\n",
       "    </tr>\n",
       "    <tr>\n",
       "      <th>min</th>\n",
       "      <td>0.000000</td>\n",
       "      <td>0.000000e+00</td>\n",
       "      <td>6.694595e+13</td>\n",
       "      <td>0.000000</td>\n",
       "    </tr>\n",
       "    <tr>\n",
       "      <th>25%</th>\n",
       "      <td>105786.500000</td>\n",
       "      <td>5.000000e+02</td>\n",
       "      <td>2.296781e+18</td>\n",
       "      <td>2.708050</td>\n",
       "    </tr>\n",
       "    <tr>\n",
       "      <th>50%</th>\n",
       "      <td>211758.000000</td>\n",
       "      <td>2.000000e+03</td>\n",
       "      <td>4.606254e+18</td>\n",
       "      <td>3.367296</td>\n",
       "    </tr>\n",
       "    <tr>\n",
       "      <th>75%</th>\n",
       "      <td>317745.500000</td>\n",
       "      <td>9.990000e+03</td>\n",
       "      <td>6.912617e+18</td>\n",
       "      <td>4.094345</td>\n",
       "    </tr>\n",
       "    <tr>\n",
       "      <th>max</th>\n",
       "      <td>423771.000000</td>\n",
       "      <td>5.677568e+09</td>\n",
       "      <td>9.223325e+18</td>\n",
       "      <td>8.328693</td>\n",
       "    </tr>\n",
       "  </tbody>\n",
       "</table>\n",
       "</div>"
      ],
      "text/plain": [
       "                  id         price       item_id     item_views\n",
       "count  376687.000000  3.766870e+05  3.766870e+05  376687.000000\n",
       "mean   211784.700144  2.465498e+05  4.606439e+18       3.483459\n",
       "std    122355.459807  1.126163e+07  2.663233e+18       1.019757\n",
       "min         0.000000  0.000000e+00  6.694595e+13       0.000000\n",
       "25%    105786.500000  5.000000e+02  2.296781e+18       2.708050\n",
       "50%    211758.000000  2.000000e+03  4.606254e+18       3.367296\n",
       "75%    317745.500000  9.990000e+03  6.912617e+18       4.094345\n",
       "max    423771.000000  5.677568e+09  9.223325e+18       8.328693"
      ]
     },
     "execution_count": 4,
     "metadata": {},
     "output_type": "execute_result"
    }
   ],
   "source": [
    "data_train.describe()"
   ]
  },
  {
   "cell_type": "code",
   "execution_count": 5,
   "metadata": {},
   "outputs": [
    {
     "name": "stdout",
     "output_type": "stream",
     "text": [
      "True\n",
      "False\n"
     ]
    }
   ],
   "source": [
    "# есть ли пропуски\n",
    "print(np.any(data_train.isna()))\n",
    "data_train = data_train.fillna('nan')\n",
    "print(np.any(data_train.isna()))"
   ]
  },
  {
   "cell_type": "code",
   "execution_count": 6,
   "metadata": {},
   "outputs": [
    {
     "data": {
      "image/png": "[encoded data removed]",
      "text/plain": [
       "<Figure size 432x288 with 1 Axes>"
      ]
     },
     "metadata": {
      "needs_background": "light"
     },
     "output_type": "display_data"
    }
   ],
   "source": [
    "# распределение просмотров от цены\n",
    "\n",
    "plt.scatter(data_train.price, data_train.item_views)\n",
    "plt.xlim([-10000, 10000000]);"
   ]
  },
  {
   "cell_type": "code",
   "execution_count": 7,
   "metadata": {},
   "outputs": [
    {
     "data": {
      "text/plain": [
       "[<matplotlib.lines.Line2D at 0x1bd63af2610>]"
      ]
     },
     "execution_count": 7,
     "metadata": {},
     "output_type": "execute_result"
    },
    {
     "data": {
      "image/png": "[encoded data removed]",
      "text/plain": [
       "<Figure size 432x288 with 1 Axes>"
      ]
     },
     "metadata": {
      "needs_background": "light"
     },
     "output_type": "display_data"
    }
   ],
   "source": [
    "# распределение просмотров от времени выкладывания\n",
    "\n",
    "plt.plot( data_train.start_time.apply(lambda x: x.hour), data_train.item_views, \n",
    "         'ob',  alpha=0.4)"
   ]
  },
  {
   "cell_type": "code",
   "execution_count": 8,
   "metadata": {
    "scrolled": true
   },
   "outputs": [
    {
     "data": {
      "image/png": "[encoded data removed]",
      "text/plain": [
       "<Figure size 432x288 with 1 Axes>"
      ]
     },
     "metadata": {
      "needs_background": "light"
     },
     "output_type": "display_data"
    }
   ],
   "source": [
    "# гистограмму просмотров\n",
    "plt.hist( np.log(data_train.item_views + 1) );"
   ]
  },
  {
   "cell_type": "code",
   "execution_count": 9,
   "metadata": {},
   "outputs": [
    {
     "data": {
      "image/png": "[encoded data removed]",
      "text/plain": [
       "<Figure size 432x288 with 1 Axes>"
      ]
     },
     "metadata": {
      "needs_background": "light"
     },
     "output_type": "display_data"
    }
   ],
   "source": [
    "# гистограмму цены\n",
    "\n",
    "plt.hist(np.log(data_train.price + 1), bins=20);"
   ]
  },
  {
   "cell_type": "code",
   "execution_count": 45,
   "metadata": {
    "scrolled": true
   },
   "outputs": [
    {
     "name": "stdout",
     "output_type": "stream",
     "text": [
      "<class 'pandas.core.frame.DataFrame'>\n",
      "RangeIndex: 376687 entries, 0 to 376686\n",
      "Data columns (total 13 columns):\n",
      " #   Column       Non-Null Count   Dtype         \n",
      "---  ------       --------------   -----         \n",
      " 0   id           376687 non-null  int64         \n",
      " 1   start_time   376687 non-null  datetime64[ns]\n",
      " 2   title        376687 non-null  object        \n",
      " 3   price        376687 non-null  int64         \n",
      " 4   item_id      376687 non-null  int64         \n",
      " 5   owner_type   376687 non-null  object        \n",
      " 6   category     376687 non-null  object        \n",
      " 7   subcategory  376687 non-null  object        \n",
      " 8   param1       361456 non-null  object        \n",
      " 9   param2       196112 non-null  object        \n",
      " 10  param3       147746 non-null  object        \n",
      " 11  region       376687 non-null  object        \n",
      " 12  item_views   376687 non-null  float64       \n",
      "dtypes: datetime64[ns](1), float64(1), int64(3), object(8)\n",
      "memory usage: 37.4+ MB\n"
     ]
    }
   ],
   "source": [
    "data_train.info()"
   ]
  },
  {
   "cell_type": "markdown",
   "metadata": {},
   "source": [
    "### Рассмотрим признаки и возможные их обработки"
   ]
  },
  {
   "cell_type": "code",
   "execution_count": 11,
   "metadata": {},
   "outputs": [
    {
     "data": {
      "text/plain": [
       "array(['Private', 'Company', 'Shop'], dtype=object)"
      ]
     },
     "execution_count": 11,
     "metadata": {},
     "output_type": "execute_result"
    }
   ],
   "source": [
    "data_train['owner_type'].unique()\n",
    "\n",
    "# с этим признаком будем использовать get_dummies"
   ]
  },
  {
   "cell_type": "code",
   "execution_count": 12,
   "metadata": {},
   "outputs": [
    {
     "data": {
      "text/plain": [
       "array(['Личные вещи', 'Транспорт', 'Животные', 'Работа',\n",
       "       'Бытовая электроника', 'Недвижимость', 'Услуги', 'Для дома и дачи',\n",
       "       'Хобби и отдых', 'Для бизнеса'], dtype=object)"
      ]
     },
     "execution_count": 12,
     "metadata": {},
     "output_type": "execute_result"
    }
   ],
   "source": [
    "data_train['category'].unique()\n",
    "\n",
    "# с этим признаком будем использовать get_dummies"
   ]
  },
  {
   "cell_type": "code",
   "execution_count": 13,
   "metadata": {},
   "outputs": [
    {
     "data": {
      "text/plain": [
       "array(['Детская одежда и обувь', 'Автомобили', 'Кошки', 'Резюме',\n",
       "       'Собаки', 'Фототехника', 'Вакансии', 'Запчасти и аксессуары',\n",
       "       'Одежда, обувь, аксессуары', 'Аудио и видео'], dtype=object)"
      ]
     },
     "execution_count": 13,
     "metadata": {},
     "output_type": "execute_result"
    }
   ],
   "source": [
    "data_train['subcategory'].unique()[:10]\n",
    "\n",
    "# отправим в мешок слов"
   ]
  },
  {
   "cell_type": "code",
   "execution_count": 14,
   "metadata": {},
   "outputs": [
    {
     "data": {
      "text/plain": [
       "array(['Для мальчиков', 'С пробегом', 'Японский бобтейл', 'Строительство',\n",
       "       'Той-терьер', 'Компактные фотоаппараты', 'Без опыта, студенты',\n",
       "       'Шины, диски и колёса', 'Мужская одежда', 'Аксессуары'],\n",
       "      dtype=object)"
      ]
     },
     "execution_count": 14,
     "metadata": {},
     "output_type": "execute_result"
    }
   ],
   "source": [
    "data_train['param1'].unique()[:10]\n",
    "\n",
    "# отправим в мешок слов"
   ]
  },
  {
   "cell_type": "code",
   "execution_count": 15,
   "metadata": {},
   "outputs": [
    {
     "data": {
      "text/plain": [
       "array(['Обувь', 'Toyota', 'nan', 'Dodge', 'Cadillac', 'MG', 'Tata',\n",
       "       'Сменный график', 'Chevrolet', 'Volkswagen'], dtype=object)"
      ]
     },
     "execution_count": 15,
     "metadata": {},
     "output_type": "execute_result"
    }
   ],
   "source": [
    "data_train['param2'].unique()[:10]\n",
    "\n",
    "# отправим в мешок слов"
   ]
  },
  {
   "cell_type": "code",
   "execution_count": 16,
   "metadata": {},
   "outputs": [
    {
     "data": {
      "text/plain": [
       "array(['> 36', 'Soarer', 'nan', 'Challenger', 'SRX', 'ZS', 'Estate',\n",
       "       'Avalanche', 'Touareg', '32'], dtype=object)"
      ]
     },
     "execution_count": 16,
     "metadata": {},
     "output_type": "execute_result"
    }
   ],
   "source": [
    "data_train['param3'].unique()[:10]\n",
    "\n",
    "# отправим в мешок слов"
   ]
  },
  {
   "cell_type": "code",
   "execution_count": 17,
   "metadata": {},
   "outputs": [
    {
     "data": {
      "text/plain": [
       "array(['Сандали фирмы Crocs', 'Бутсы футбольные Reebok',\n",
       "       'Nike hypervenom Бутсы', 'Сапоги', 'Кеды 38',\n",
       "       'Обувь для мини футбола', 'Бутсы для футбола Nike Mercurial',\n",
       "       'Ботинки Timberland (38.5p) Идеальное состояние',\n",
       "       'Ugg Australia р.38 унисекс', 'Подростковые зимние ботинки'],\n",
       "      dtype=object)"
      ]
     },
     "execution_count": 17,
     "metadata": {},
     "output_type": "execute_result"
    }
   ],
   "source": [
    "data_train['title'].unique()[:10]\n",
    "\n",
    "# отправим в мешок слов"
   ]
  },
  {
   "cell_type": "code",
   "execution_count": 18,
   "metadata": {
    "scrolled": true
   },
   "outputs": [
    {
     "data": {
      "text/plain": [
       "array(['Москва', 'Омская область', 'Санкт-Петербург', 'Тульская область',\n",
       "       'Самарская область', 'Ханты-Мансийский АО',\n",
       "       'Волгоградская область', 'Свердловская область',\n",
       "       'Амурская область', 'Московская область'], dtype=object)"
      ]
     },
     "execution_count": 18,
     "metadata": {},
     "output_type": "execute_result"
    }
   ],
   "source": [
    "data_train['region'].unique()[:10]\n",
    "\n",
    "# закодируем по количеству"
   ]
  },
  {
   "cell_type": "markdown",
   "metadata": {},
   "source": [
    "### Начнем с образования текста для мешка слов"
   ]
  },
  {
   "cell_type": "code",
   "execution_count": 19,
   "metadata": {},
   "outputs": [
    {
     "data": {
      "text/plain": [
       "421"
      ]
     },
     "execution_count": 19,
     "metadata": {},
     "output_type": "execute_result"
    }
   ],
   "source": [
    "# загружаем стоп слова\n",
    "\n",
    "morph = pymorphy2.MorphAnalyzer()\n",
    "\n",
    "stopword_rus = []\n",
    "\n",
    "with open('stop_words_russian.txt', encoding=\"utf-8\") as f:\n",
    "    stopword_rus += [w.strip() for w in f.readlines() if w]\n",
    "    \n",
    "len(stopword_rus)"
   ]
  },
  {
   "cell_type": "code",
   "execution_count": 20,
   "metadata": {},
   "outputs": [],
   "source": [
    "#для нормализации текста\n",
    "\n",
    "@lru_cache(maxsize=100000) # с кешом!\n",
    "def get_normal_form (i):\n",
    "    return morph.normal_forms(i)[0]\n",
    "\n",
    "def normalize_text(x):\n",
    "    x = x[:200] \n",
    "    return ' '.join([get_normal_form(i) for i in re.findall('\\w+', x)])"
   ]
  },
  {
   "cell_type": "code",
   "execution_count": 21,
   "metadata": {},
   "outputs": [],
   "source": [
    "# для очистки текста\n",
    "\n",
    "def clean_text(text):\n",
    "    '''\n",
    "    очистка текста\n",
    "    \n",
    "    на выходе очищеный текст\n",
    "    \n",
    "    '''\n",
    "    if not isinstance(text, str):\n",
    "        text = str(text)\n",
    "    \n",
    "    text = text.lower()\n",
    "    text = text.strip('\\n').strip('\\r').strip('\\t')\n",
    "    text = re.sub(\"-\\s\\r\\n\\|-\\s\\r\\n|\\r\\n\", '', str(text))\n",
    "    text = re.sub(\"\\|\", ' ', str(text))\n",
    "    text = re.sub(\"https?:\\/\\/\\S+\", '', str(text))\n",
    "    text = re.sub(\"[-—.,:;_%©«»?*!@#№$^•·&()]|[+=]|[[]|[]]|[/]|\", '', text)\n",
    "    text = re.sub(r\"\\r\\n\\t|\\n|\\\\s|\\r\\t|\\\\n\", ' ', text)\n",
    "    text = re.sub(r'[\\xad]|[\\s+]', ' ', text.strip())\n",
    "    \n",
    "    #tokens = list(tokenize(text))\n",
    "    #words = [_.text for _ in tokens]\n",
    "    #words = [w for w in words if w not in stopword_ru]\n",
    "    \n",
    "    #return \" \".join(words)\n",
    "    return text\n",
    "\n",
    "cache = {}\n",
    "\n",
    "# для лематизации текста\n",
    "\n",
    "def lemmatization(text):\n",
    "    '''\n",
    "    лемматизация\n",
    "        [0] если зашел тип не `str` делаем его `str`\n",
    "        [1] токенизация предложения через razdel\n",
    "        [2] проверка есть ли в начале слова '-'\n",
    "        [3] проверка токена с одного символа\n",
    "        [4] проверка есть ли данное слово в кэше\n",
    "        [5] лемматизация слова\n",
    "        [6] проверка на стоп-слова\n",
    "\n",
    "    на выходе лист отлемматизированых токенов\n",
    "    '''\n",
    "\n",
    "    # [0]\n",
    "    if not isinstance(text, str):\n",
    "        text = str(text)\n",
    "    \n",
    "    # [1]\n",
    "    tokens = list(tokenize(text))\n",
    "    words = [_.text for _ in tokens]\n",
    "\n",
    "    words_lem = []\n",
    "    for w in words:\n",
    "        if w[0] == '-': # [2]\n",
    "            w = w[1:]\n",
    "        if len(w)>1: # [3]\n",
    "            if w in cache: # [4]\n",
    "                words_lem.append(cache[w])\n",
    "            else: # [5]\n",
    "                temp_cach = cache[w] = morph.parse(w)[0].normal_form\n",
    "                words_lem.append(temp_cach)\n",
    "    \n",
    "    words_lem_without_stopwords=[i for i in words_lem if not i in stopword_rus]\n",
    "    words_lem_without_stopwords_str = \" \".join(words_lem_without_stopwords)\n",
    "    \n",
    "    return words_lem_without_stopwords_str"
   ]
  },
  {
   "cell_type": "code",
   "execution_count": 22,
   "metadata": {},
   "outputs": [
    {
     "data": {
      "text/html": [
       "<div>\n",
       "<style scoped>\n",
       "    .dataframe tbody tr th:only-of-type {\n",
       "        vertical-align: middle;\n",
       "    }\n",
       "\n",
       "    .dataframe tbody tr th {\n",
       "        vertical-align: top;\n",
       "    }\n",
       "\n",
       "    .dataframe thead th {\n",
       "        text-align: right;\n",
       "    }\n",
       "</style>\n",
       "<table border=\"1\" class=\"dataframe\">\n",
       "  <thead>\n",
       "    <tr style=\"text-align: right;\">\n",
       "      <th></th>\n",
       "      <th>id</th>\n",
       "      <th>start_time</th>\n",
       "      <th>price</th>\n",
       "      <th>item_id</th>\n",
       "      <th>owner_type</th>\n",
       "      <th>category</th>\n",
       "      <th>region</th>\n",
       "      <th>item_views</th>\n",
       "      <th>full_text</th>\n",
       "    </tr>\n",
       "  </thead>\n",
       "  <tbody>\n",
       "    <tr>\n",
       "      <th>0</th>\n",
       "      <td>328853</td>\n",
       "      <td>2016-12-27 10:38:04</td>\n",
       "      <td>800</td>\n",
       "      <td>1301822498390501359</td>\n",
       "      <td>Private</td>\n",
       "      <td>Личные вещи</td>\n",
       "      <td>Москва</td>\n",
       "      <td>3.332205</td>\n",
       "      <td>Для мальчиков Обувь &gt; 36 Детская одежда и обув...</td>\n",
       "    </tr>\n",
       "    <tr>\n",
       "      <th>1</th>\n",
       "      <td>257639</td>\n",
       "      <td>2016-12-27 15:23:55</td>\n",
       "      <td>2000</td>\n",
       "      <td>4439620035274845039</td>\n",
       "      <td>Private</td>\n",
       "      <td>Личные вещи</td>\n",
       "      <td>Омская область</td>\n",
       "      <td>2.302585</td>\n",
       "      <td>Для мальчиков Обувь &gt; 36 Детская одежда и обув...</td>\n",
       "    </tr>\n",
       "    <tr>\n",
       "      <th>2</th>\n",
       "      <td>140732</td>\n",
       "      <td>2016-12-28 19:34:15</td>\n",
       "      <td>600</td>\n",
       "      <td>4860577743813309218</td>\n",
       "      <td>Private</td>\n",
       "      <td>Личные вещи</td>\n",
       "      <td>Санкт-Петербург</td>\n",
       "      <td>4.663439</td>\n",
       "      <td>Для мальчиков Обувь &gt; 36 Детская одежда и обув...</td>\n",
       "    </tr>\n",
       "    <tr>\n",
       "      <th>3</th>\n",
       "      <td>3080</td>\n",
       "      <td>2016-12-26 10:26:02</td>\n",
       "      <td>150</td>\n",
       "      <td>3492530336858889466</td>\n",
       "      <td>Private</td>\n",
       "      <td>Личные вещи</td>\n",
       "      <td>Тульская область</td>\n",
       "      <td>3.367296</td>\n",
       "      <td>Для мальчиков Обувь &gt; 36 Детская одежда и обув...</td>\n",
       "    </tr>\n",
       "  </tbody>\n",
       "</table>\n",
       "</div>"
      ],
      "text/plain": [
       "       id          start_time  price              item_id owner_type  \\\n",
       "0  328853 2016-12-27 10:38:04    800  1301822498390501359    Private   \n",
       "1  257639 2016-12-27 15:23:55   2000  4439620035274845039    Private   \n",
       "2  140732 2016-12-28 19:34:15    600  4860577743813309218    Private   \n",
       "3    3080 2016-12-26 10:26:02    150  3492530336858889466    Private   \n",
       "\n",
       "      category            region  item_views  \\\n",
       "0  Личные вещи            Москва    3.332205   \n",
       "1  Личные вещи    Омская область    2.302585   \n",
       "2  Личные вещи   Санкт-Петербург    4.663439   \n",
       "3  Личные вещи  Тульская область    3.367296   \n",
       "\n",
       "                                           full_text  \n",
       "0  Для мальчиков Обувь > 36 Детская одежда и обув...  \n",
       "1  Для мальчиков Обувь > 36 Детская одежда и обув...  \n",
       "2  Для мальчиков Обувь > 36 Детская одежда и обув...  \n",
       "3  Для мальчиков Обувь > 36 Детская одежда и обув...  "
      ]
     },
     "execution_count": 22,
     "metadata": {},
     "output_type": "execute_result"
    }
   ],
   "source": [
    "# образовываем полный текст описания объявления\n",
    "\n",
    "data_train['full_text'] = data_train.param1 + ' ' + data_train.param2 + ' ' + data_train.param3 + ' ' +  data_train.subcategory + ' ' + data_train.title\n",
    "data_train = data_train.drop(['param1', 'param2', 'param3', 'subcategory', 'title'], axis=1)\n",
    "data_train.head(4)"
   ]
  },
  {
   "cell_type": "code",
   "execution_count": 24,
   "metadata": {},
   "outputs": [
    {
     "name": "stderr",
     "output_type": "stream",
     "text": [
      "UsageError: Line magic function `%%time` not found.\n"
     ]
    }
   ],
   "source": [
    "# обрабатываем описание\n",
    "%%time\n",
    "\n",
    "data_train['full_text'] = data_train['full_text'].apply(lambda x: normalize_text(x))\n",
    "data_train['full_text'] = data_train['full_text'].apply(lambda x: clean_text(x))\n",
    "data_train['full_text'] = data_train['full_text'].apply(lambda x: lemmatization(x))\n",
    "data_train.head(4)"
   ]
  },
  {
   "cell_type": "markdown",
   "metadata": {},
   "source": [
    "### Категории и тип объявления (get_dummies)"
   ]
  },
  {
   "cell_type": "code",
   "execution_count": 25,
   "metadata": {},
   "outputs": [
    {
     "data": {
      "text/html": [
       "<div>\n",
       "<style scoped>\n",
       "    .dataframe tbody tr th:only-of-type {\n",
       "        vertical-align: middle;\n",
       "    }\n",
       "\n",
       "    .dataframe tbody tr th {\n",
       "        vertical-align: top;\n",
       "    }\n",
       "\n",
       "    .dataframe thead th {\n",
       "        text-align: right;\n",
       "    }\n",
       "</style>\n",
       "<table border=\"1\" class=\"dataframe\">\n",
       "  <thead>\n",
       "    <tr style=\"text-align: right;\">\n",
       "      <th></th>\n",
       "      <th>id</th>\n",
       "      <th>start_time</th>\n",
       "      <th>price</th>\n",
       "      <th>item_id</th>\n",
       "      <th>region</th>\n",
       "      <th>item_views</th>\n",
       "      <th>full_text</th>\n",
       "      <th>owner_type_Company</th>\n",
       "      <th>owner_type_Private</th>\n",
       "      <th>owner_type_Shop</th>\n",
       "      <th>category_Бытовая электроника</th>\n",
       "      <th>category_Для бизнеса</th>\n",
       "      <th>category_Для дома и дачи</th>\n",
       "      <th>category_Животные</th>\n",
       "      <th>category_Личные вещи</th>\n",
       "      <th>category_Недвижимость</th>\n",
       "      <th>category_Работа</th>\n",
       "      <th>category_Транспорт</th>\n",
       "      <th>category_Услуги</th>\n",
       "      <th>category_Хобби и отдых</th>\n",
       "    </tr>\n",
       "  </thead>\n",
       "  <tbody>\n",
       "    <tr>\n",
       "      <th>0</th>\n",
       "      <td>328853</td>\n",
       "      <td>2016-12-27 10:38:04</td>\n",
       "      <td>800</td>\n",
       "      <td>1301822498390501359</td>\n",
       "      <td>Москва</td>\n",
       "      <td>3.332205</td>\n",
       "      <td>Для мальчиков Обувь &gt; 36 Детская одежда и обув...</td>\n",
       "      <td>0</td>\n",
       "      <td>1</td>\n",
       "      <td>0</td>\n",
       "      <td>0</td>\n",
       "      <td>0</td>\n",
       "      <td>0</td>\n",
       "      <td>0</td>\n",
       "      <td>1</td>\n",
       "      <td>0</td>\n",
       "      <td>0</td>\n",
       "      <td>0</td>\n",
       "      <td>0</td>\n",
       "      <td>0</td>\n",
       "    </tr>\n",
       "    <tr>\n",
       "      <th>1</th>\n",
       "      <td>257639</td>\n",
       "      <td>2016-12-27 15:23:55</td>\n",
       "      <td>2000</td>\n",
       "      <td>4439620035274845039</td>\n",
       "      <td>Омская область</td>\n",
       "      <td>2.302585</td>\n",
       "      <td>Для мальчиков Обувь &gt; 36 Детская одежда и обув...</td>\n",
       "      <td>0</td>\n",
       "      <td>1</td>\n",
       "      <td>0</td>\n",
       "      <td>0</td>\n",
       "      <td>0</td>\n",
       "      <td>0</td>\n",
       "      <td>0</td>\n",
       "      <td>1</td>\n",
       "      <td>0</td>\n",
       "      <td>0</td>\n",
       "      <td>0</td>\n",
       "      <td>0</td>\n",
       "      <td>0</td>\n",
       "    </tr>\n",
       "    <tr>\n",
       "      <th>2</th>\n",
       "      <td>140732</td>\n",
       "      <td>2016-12-28 19:34:15</td>\n",
       "      <td>600</td>\n",
       "      <td>4860577743813309218</td>\n",
       "      <td>Санкт-Петербург</td>\n",
       "      <td>4.663439</td>\n",
       "      <td>Для мальчиков Обувь &gt; 36 Детская одежда и обув...</td>\n",
       "      <td>0</td>\n",
       "      <td>1</td>\n",
       "      <td>0</td>\n",
       "      <td>0</td>\n",
       "      <td>0</td>\n",
       "      <td>0</td>\n",
       "      <td>0</td>\n",
       "      <td>1</td>\n",
       "      <td>0</td>\n",
       "      <td>0</td>\n",
       "      <td>0</td>\n",
       "      <td>0</td>\n",
       "      <td>0</td>\n",
       "    </tr>\n",
       "    <tr>\n",
       "      <th>3</th>\n",
       "      <td>3080</td>\n",
       "      <td>2016-12-26 10:26:02</td>\n",
       "      <td>150</td>\n",
       "      <td>3492530336858889466</td>\n",
       "      <td>Тульская область</td>\n",
       "      <td>3.367296</td>\n",
       "      <td>Для мальчиков Обувь &gt; 36 Детская одежда и обув...</td>\n",
       "      <td>0</td>\n",
       "      <td>1</td>\n",
       "      <td>0</td>\n",
       "      <td>0</td>\n",
       "      <td>0</td>\n",
       "      <td>0</td>\n",
       "      <td>0</td>\n",
       "      <td>1</td>\n",
       "      <td>0</td>\n",
       "      <td>0</td>\n",
       "      <td>0</td>\n",
       "      <td>0</td>\n",
       "      <td>0</td>\n",
       "    </tr>\n",
       "  </tbody>\n",
       "</table>\n",
       "</div>"
      ],
      "text/plain": [
       "       id          start_time  price              item_id            region  \\\n",
       "0  328853 2016-12-27 10:38:04    800  1301822498390501359            Москва   \n",
       "1  257639 2016-12-27 15:23:55   2000  4439620035274845039    Омская область   \n",
       "2  140732 2016-12-28 19:34:15    600  4860577743813309218   Санкт-Петербург   \n",
       "3    3080 2016-12-26 10:26:02    150  3492530336858889466  Тульская область   \n",
       "\n",
       "   item_views                                          full_text  \\\n",
       "0    3.332205  Для мальчиков Обувь > 36 Детская одежда и обув...   \n",
       "1    2.302585  Для мальчиков Обувь > 36 Детская одежда и обув...   \n",
       "2    4.663439  Для мальчиков Обувь > 36 Детская одежда и обув...   \n",
       "3    3.367296  Для мальчиков Обувь > 36 Детская одежда и обув...   \n",
       "\n",
       "   owner_type_Company  owner_type_Private  owner_type_Shop  \\\n",
       "0                   0                   1                0   \n",
       "1                   0                   1                0   \n",
       "2                   0                   1                0   \n",
       "3                   0                   1                0   \n",
       "\n",
       "   category_Бытовая электроника  category_Для бизнеса  \\\n",
       "0                             0                     0   \n",
       "1                             0                     0   \n",
       "2                             0                     0   \n",
       "3                             0                     0   \n",
       "\n",
       "   category_Для дома и дачи  category_Животные  category_Личные вещи  \\\n",
       "0                         0                  0                     1   \n",
       "1                         0                  0                     1   \n",
       "2                         0                  0                     1   \n",
       "3                         0                  0                     1   \n",
       "\n",
       "   category_Недвижимость  category_Работа  category_Транспорт  \\\n",
       "0                      0                0                   0   \n",
       "1                      0                0                   0   \n",
       "2                      0                0                   0   \n",
       "3                      0                0                   0   \n",
       "\n",
       "   category_Услуги  category_Хобби и отдых  \n",
       "0                0                       0  \n",
       "1                0                       0  \n",
       "2                0                       0  \n",
       "3                0                       0  "
      ]
     },
     "execution_count": 25,
     "metadata": {},
     "output_type": "execute_result"
    }
   ],
   "source": [
    "data_train = pd.get_dummies(data=data_train, columns=['owner_type', 'category'])\n",
    "data_train.head(4)"
   ]
  },
  {
   "cell_type": "markdown",
   "metadata": {},
   "source": [
    "### Обработка времени"
   ]
  },
  {
   "cell_type": "code",
   "execution_count": 26,
   "metadata": {},
   "outputs": [],
   "source": [
    "# предобработка\n",
    "# - время.\n",
    "\n",
    "data_train.start_time = pd.to_datetime(data_train.start_time)"
   ]
  },
  {
   "cell_type": "code",
   "execution_count": 27,
   "metadata": {},
   "outputs": [],
   "source": [
    "f = lambda x: (x.hour * 60 + x.minute) / (24 * 60)\n",
    "data_train['relative_time'] = data_train.start_time.apply(f)"
   ]
  },
  {
   "cell_type": "code",
   "execution_count": 28,
   "metadata": {},
   "outputs": [],
   "source": [
    "data_train['slided_hours'] = data_train.start_time.apply(lambda x: ((x.hour - 3.5) % 24) * 1. / 24.)"
   ]
  },
  {
   "cell_type": "code",
   "execution_count": 29,
   "metadata": {},
   "outputs": [],
   "source": [
    "def make_harmonic_features(value, period=24):\n",
    "    value = (value / period) * 2 * np.pi\n",
    "    return np.cos(value), np.sin(value)"
   ]
  },
  {
   "cell_type": "code",
   "execution_count": 30,
   "metadata": {},
   "outputs": [],
   "source": [
    "data_train['cos_time'] = data_train.start_time.apply(lambda x: make_harmonic_features(x.hour + x.minute / 60)[0])\n",
    "data_train['sin_time'] = data_train.start_time.apply(lambda x: make_harmonic_features(x.hour + x.minute / 60)[1])"
   ]
  },
  {
   "cell_type": "code",
   "execution_count": 31,
   "metadata": {},
   "outputs": [],
   "source": [
    "data_train['week_day'] = data_train.start_time.apply(lambda x: x.isoweekday())"
   ]
  },
  {
   "cell_type": "code",
   "execution_count": 32,
   "metadata": {},
   "outputs": [
    {
     "data": {
      "text/html": [
       "<div>\n",
       "<style scoped>\n",
       "    .dataframe tbody tr th:only-of-type {\n",
       "        vertical-align: middle;\n",
       "    }\n",
       "\n",
       "    .dataframe tbody tr th {\n",
       "        vertical-align: top;\n",
       "    }\n",
       "\n",
       "    .dataframe thead th {\n",
       "        text-align: right;\n",
       "    }\n",
       "</style>\n",
       "<table border=\"1\" class=\"dataframe\">\n",
       "  <thead>\n",
       "    <tr style=\"text-align: right;\">\n",
       "      <th></th>\n",
       "      <th>id</th>\n",
       "      <th>start_time</th>\n",
       "      <th>price</th>\n",
       "      <th>item_id</th>\n",
       "      <th>region</th>\n",
       "      <th>item_views</th>\n",
       "      <th>full_text</th>\n",
       "      <th>owner_type_Company</th>\n",
       "      <th>owner_type_Private</th>\n",
       "      <th>owner_type_Shop</th>\n",
       "      <th>...</th>\n",
       "      <th>category_Недвижимость</th>\n",
       "      <th>category_Работа</th>\n",
       "      <th>category_Транспорт</th>\n",
       "      <th>category_Услуги</th>\n",
       "      <th>category_Хобби и отдых</th>\n",
       "      <th>relative_time</th>\n",
       "      <th>slided_hours</th>\n",
       "      <th>cos_time</th>\n",
       "      <th>sin_time</th>\n",
       "      <th>week_day</th>\n",
       "    </tr>\n",
       "  </thead>\n",
       "  <tbody>\n",
       "    <tr>\n",
       "      <th>0</th>\n",
       "      <td>328853</td>\n",
       "      <td>2016-12-27 10:38:04</td>\n",
       "      <td>800</td>\n",
       "      <td>1301822498390501359</td>\n",
       "      <td>Москва</td>\n",
       "      <td>3.332205</td>\n",
       "      <td>Для мальчиков Обувь &gt; 36 Детская одежда и обув...</td>\n",
       "      <td>0</td>\n",
       "      <td>1</td>\n",
       "      <td>0</td>\n",
       "      <td>...</td>\n",
       "      <td>0</td>\n",
       "      <td>0</td>\n",
       "      <td>0</td>\n",
       "      <td>0</td>\n",
       "      <td>0</td>\n",
       "      <td>0.443056</td>\n",
       "      <td>0.270833</td>\n",
       "      <td>-0.936672</td>\n",
       "      <td>0.350207</td>\n",
       "      <td>2</td>\n",
       "    </tr>\n",
       "    <tr>\n",
       "      <th>1</th>\n",
       "      <td>257639</td>\n",
       "      <td>2016-12-27 15:23:55</td>\n",
       "      <td>2000</td>\n",
       "      <td>4439620035274845039</td>\n",
       "      <td>Омская область</td>\n",
       "      <td>2.302585</td>\n",
       "      <td>Для мальчиков Обувь &gt; 36 Детская одежда и обув...</td>\n",
       "      <td>0</td>\n",
       "      <td>1</td>\n",
       "      <td>0</td>\n",
       "      <td>...</td>\n",
       "      <td>0</td>\n",
       "      <td>0</td>\n",
       "      <td>0</td>\n",
       "      <td>0</td>\n",
       "      <td>0</td>\n",
       "      <td>0.640972</td>\n",
       "      <td>0.479167</td>\n",
       "      <td>-0.632705</td>\n",
       "      <td>-0.774393</td>\n",
       "      <td>2</td>\n",
       "    </tr>\n",
       "    <tr>\n",
       "      <th>2</th>\n",
       "      <td>140732</td>\n",
       "      <td>2016-12-28 19:34:15</td>\n",
       "      <td>600</td>\n",
       "      <td>4860577743813309218</td>\n",
       "      <td>Санкт-Петербург</td>\n",
       "      <td>4.663439</td>\n",
       "      <td>Для мальчиков Обувь &gt; 36 Детская одежда и обув...</td>\n",
       "      <td>0</td>\n",
       "      <td>1</td>\n",
       "      <td>0</td>\n",
       "      <td>...</td>\n",
       "      <td>0</td>\n",
       "      <td>0</td>\n",
       "      <td>0</td>\n",
       "      <td>0</td>\n",
       "      <td>0</td>\n",
       "      <td>0.815278</td>\n",
       "      <td>0.645833</td>\n",
       "      <td>0.398749</td>\n",
       "      <td>-0.917060</td>\n",
       "      <td>3</td>\n",
       "    </tr>\n",
       "    <tr>\n",
       "      <th>3</th>\n",
       "      <td>3080</td>\n",
       "      <td>2016-12-26 10:26:02</td>\n",
       "      <td>150</td>\n",
       "      <td>3492530336858889466</td>\n",
       "      <td>Тульская область</td>\n",
       "      <td>3.367296</td>\n",
       "      <td>Для мальчиков Обувь &gt; 36 Детская одежда и обув...</td>\n",
       "      <td>0</td>\n",
       "      <td>1</td>\n",
       "      <td>0</td>\n",
       "      <td>...</td>\n",
       "      <td>0</td>\n",
       "      <td>0</td>\n",
       "      <td>0</td>\n",
       "      <td>0</td>\n",
       "      <td>0</td>\n",
       "      <td>0.434722</td>\n",
       "      <td>0.270833</td>\n",
       "      <td>-0.917060</td>\n",
       "      <td>0.398749</td>\n",
       "      <td>1</td>\n",
       "    </tr>\n",
       "    <tr>\n",
       "      <th>4</th>\n",
       "      <td>325394</td>\n",
       "      <td>2016-12-26 17:09:19</td>\n",
       "      <td>500</td>\n",
       "      <td>3559049054931858928</td>\n",
       "      <td>Самарская область</td>\n",
       "      <td>2.302585</td>\n",
       "      <td>Для мальчиков Обувь &gt; 36 Детская одежда и обув...</td>\n",
       "      <td>0</td>\n",
       "      <td>1</td>\n",
       "      <td>0</td>\n",
       "      <td>...</td>\n",
       "      <td>0</td>\n",
       "      <td>0</td>\n",
       "      <td>0</td>\n",
       "      <td>0</td>\n",
       "      <td>0</td>\n",
       "      <td>0.714583</td>\n",
       "      <td>0.562500</td>\n",
       "      <td>-0.220697</td>\n",
       "      <td>-0.975342</td>\n",
       "      <td>1</td>\n",
       "    </tr>\n",
       "  </tbody>\n",
       "</table>\n",
       "<p>5 rows × 25 columns</p>\n",
       "</div>"
      ],
      "text/plain": [
       "       id          start_time  price              item_id             region  \\\n",
       "0  328853 2016-12-27 10:38:04    800  1301822498390501359             Москва   \n",
       "1  257639 2016-12-27 15:23:55   2000  4439620035274845039     Омская область   \n",
       "2  140732 2016-12-28 19:34:15    600  4860577743813309218    Санкт-Петербург   \n",
       "3    3080 2016-12-26 10:26:02    150  3492530336858889466   Тульская область   \n",
       "4  325394 2016-12-26 17:09:19    500  3559049054931858928  Самарская область   \n",
       "\n",
       "   item_views                                          full_text  \\\n",
       "0    3.332205  Для мальчиков Обувь > 36 Детская одежда и обув...   \n",
       "1    2.302585  Для мальчиков Обувь > 36 Детская одежда и обув...   \n",
       "2    4.663439  Для мальчиков Обувь > 36 Детская одежда и обув...   \n",
       "3    3.367296  Для мальчиков Обувь > 36 Детская одежда и обув...   \n",
       "4    2.302585  Для мальчиков Обувь > 36 Детская одежда и обув...   \n",
       "\n",
       "   owner_type_Company  owner_type_Private  owner_type_Shop  ...  \\\n",
       "0                   0                   1                0  ...   \n",
       "1                   0                   1                0  ...   \n",
       "2                   0                   1                0  ...   \n",
       "3                   0                   1                0  ...   \n",
       "4                   0                   1                0  ...   \n",
       "\n",
       "   category_Недвижимость  category_Работа  category_Транспорт  \\\n",
       "0                      0                0                   0   \n",
       "1                      0                0                   0   \n",
       "2                      0                0                   0   \n",
       "3                      0                0                   0   \n",
       "4                      0                0                   0   \n",
       "\n",
       "   category_Услуги  category_Хобби и отдых  relative_time  slided_hours  \\\n",
       "0                0                       0       0.443056      0.270833   \n",
       "1                0                       0       0.640972      0.479167   \n",
       "2                0                       0       0.815278      0.645833   \n",
       "3                0                       0       0.434722      0.270833   \n",
       "4                0                       0       0.714583      0.562500   \n",
       "\n",
       "   cos_time  sin_time  week_day  \n",
       "0 -0.936672  0.350207         2  \n",
       "1 -0.632705 -0.774393         2  \n",
       "2  0.398749 -0.917060         3  \n",
       "3 -0.917060  0.398749         1  \n",
       "4 -0.220697 -0.975342         1  \n",
       "\n",
       "[5 rows x 25 columns]"
      ]
     },
     "execution_count": 32,
     "metadata": {},
     "output_type": "execute_result"
    }
   ],
   "source": [
    "data_train.head()"
   ]
  },
  {
   "cell_type": "code",
   "execution_count": 33,
   "metadata": {},
   "outputs": [],
   "source": [
    "data_train = data_train.drop(['start_time'], axis=1)"
   ]
  },
  {
   "cell_type": "markdown",
   "metadata": {},
   "source": [
    "# Регион"
   ]
  },
  {
   "cell_type": "code",
   "execution_count": 34,
   "metadata": {},
   "outputs": [],
   "source": [
    "def _counter_encoder(dt, str_cols, counter_Encoders, is_train=True):\n",
    "    \"\"\"\n",
    "    Counter Encoder.\n",
    "    \"\"\"\n",
    "    if is_train:\n",
    "        counter_Encoders = {col:dt[col].value_counts().to_dict() for col in str_cols}\n",
    "    for column in str_cols:\n",
    "        dt[column+'_enc_by_count'] = dt[column].apply(lambda x: counter_Encoders[column].get(x, 0)) \n",
    "    return counter_Encoders"
   ]
  },
  {
   "cell_type": "code",
   "execution_count": 35,
   "metadata": {},
   "outputs": [],
   "source": [
    "counter_Encoders = _counter_encoder(data_train, str_cols=['region'], counter_Encoders=None, is_train=True)"
   ]
  },
  {
   "cell_type": "code",
   "execution_count": 36,
   "metadata": {
    "scrolled": true
   },
   "outputs": [
    {
     "data": {
      "text/html": [
       "<div>\n",
       "<style scoped>\n",
       "    .dataframe tbody tr th:only-of-type {\n",
       "        vertical-align: middle;\n",
       "    }\n",
       "\n",
       "    .dataframe tbody tr th {\n",
       "        vertical-align: top;\n",
       "    }\n",
       "\n",
       "    .dataframe thead th {\n",
       "        text-align: right;\n",
       "    }\n",
       "</style>\n",
       "<table border=\"1\" class=\"dataframe\">\n",
       "  <thead>\n",
       "    <tr style=\"text-align: right;\">\n",
       "      <th></th>\n",
       "      <th>id</th>\n",
       "      <th>price</th>\n",
       "      <th>item_id</th>\n",
       "      <th>item_views</th>\n",
       "      <th>full_text</th>\n",
       "      <th>owner_type_Company</th>\n",
       "      <th>owner_type_Private</th>\n",
       "      <th>owner_type_Shop</th>\n",
       "      <th>category_Бытовая электроника</th>\n",
       "      <th>category_Для бизнеса</th>\n",
       "      <th>...</th>\n",
       "      <th>category_Работа</th>\n",
       "      <th>category_Транспорт</th>\n",
       "      <th>category_Услуги</th>\n",
       "      <th>category_Хобби и отдых</th>\n",
       "      <th>relative_time</th>\n",
       "      <th>slided_hours</th>\n",
       "      <th>cos_time</th>\n",
       "      <th>sin_time</th>\n",
       "      <th>week_day</th>\n",
       "      <th>region_enc_by_count</th>\n",
       "    </tr>\n",
       "  </thead>\n",
       "  <tbody>\n",
       "    <tr>\n",
       "      <th>0</th>\n",
       "      <td>328853</td>\n",
       "      <td>800</td>\n",
       "      <td>1301822498390501359</td>\n",
       "      <td>3.332205</td>\n",
       "      <td>Для мальчиков Обувь &gt; 36 Детская одежда и обув...</td>\n",
       "      <td>0</td>\n",
       "      <td>1</td>\n",
       "      <td>0</td>\n",
       "      <td>0</td>\n",
       "      <td>0</td>\n",
       "      <td>...</td>\n",
       "      <td>0</td>\n",
       "      <td>0</td>\n",
       "      <td>0</td>\n",
       "      <td>0</td>\n",
       "      <td>0.443056</td>\n",
       "      <td>0.270833</td>\n",
       "      <td>-0.936672</td>\n",
       "      <td>0.350207</td>\n",
       "      <td>2</td>\n",
       "      <td>70683</td>\n",
       "    </tr>\n",
       "    <tr>\n",
       "      <th>1</th>\n",
       "      <td>257639</td>\n",
       "      <td>2000</td>\n",
       "      <td>4439620035274845039</td>\n",
       "      <td>2.302585</td>\n",
       "      <td>Для мальчиков Обувь &gt; 36 Детская одежда и обув...</td>\n",
       "      <td>0</td>\n",
       "      <td>1</td>\n",
       "      <td>0</td>\n",
       "      <td>0</td>\n",
       "      <td>0</td>\n",
       "      <td>...</td>\n",
       "      <td>0</td>\n",
       "      <td>0</td>\n",
       "      <td>0</td>\n",
       "      <td>0</td>\n",
       "      <td>0.640972</td>\n",
       "      <td>0.479167</td>\n",
       "      <td>-0.632705</td>\n",
       "      <td>-0.774393</td>\n",
       "      <td>2</td>\n",
       "      <td>4265</td>\n",
       "    </tr>\n",
       "    <tr>\n",
       "      <th>2</th>\n",
       "      <td>140732</td>\n",
       "      <td>600</td>\n",
       "      <td>4860577743813309218</td>\n",
       "      <td>4.663439</td>\n",
       "      <td>Для мальчиков Обувь &gt; 36 Детская одежда и обув...</td>\n",
       "      <td>0</td>\n",
       "      <td>1</td>\n",
       "      <td>0</td>\n",
       "      <td>0</td>\n",
       "      <td>0</td>\n",
       "      <td>...</td>\n",
       "      <td>0</td>\n",
       "      <td>0</td>\n",
       "      <td>0</td>\n",
       "      <td>0</td>\n",
       "      <td>0.815278</td>\n",
       "      <td>0.645833</td>\n",
       "      <td>0.398749</td>\n",
       "      <td>-0.917060</td>\n",
       "      <td>3</td>\n",
       "      <td>36663</td>\n",
       "    </tr>\n",
       "    <tr>\n",
       "      <th>3</th>\n",
       "      <td>3080</td>\n",
       "      <td>150</td>\n",
       "      <td>3492530336858889466</td>\n",
       "      <td>3.367296</td>\n",
       "      <td>Для мальчиков Обувь &gt; 36 Детская одежда и обув...</td>\n",
       "      <td>0</td>\n",
       "      <td>1</td>\n",
       "      <td>0</td>\n",
       "      <td>0</td>\n",
       "      <td>0</td>\n",
       "      <td>...</td>\n",
       "      <td>0</td>\n",
       "      <td>0</td>\n",
       "      <td>0</td>\n",
       "      <td>0</td>\n",
       "      <td>0.434722</td>\n",
       "      <td>0.270833</td>\n",
       "      <td>-0.917060</td>\n",
       "      <td>0.398749</td>\n",
       "      <td>1</td>\n",
       "      <td>2986</td>\n",
       "    </tr>\n",
       "  </tbody>\n",
       "</table>\n",
       "<p>4 rows × 24 columns</p>\n",
       "</div>"
      ],
      "text/plain": [
       "       id  price              item_id  item_views  \\\n",
       "0  328853    800  1301822498390501359    3.332205   \n",
       "1  257639   2000  4439620035274845039    2.302585   \n",
       "2  140732    600  4860577743813309218    4.663439   \n",
       "3    3080    150  3492530336858889466    3.367296   \n",
       "\n",
       "                                           full_text  owner_type_Company  \\\n",
       "0  Для мальчиков Обувь > 36 Детская одежда и обув...                   0   \n",
       "1  Для мальчиков Обувь > 36 Детская одежда и обув...                   0   \n",
       "2  Для мальчиков Обувь > 36 Детская одежда и обув...                   0   \n",
       "3  Для мальчиков Обувь > 36 Детская одежда и обув...                   0   \n",
       "\n",
       "   owner_type_Private  owner_type_Shop  category_Бытовая электроника  \\\n",
       "0                   1                0                             0   \n",
       "1                   1                0                             0   \n",
       "2                   1                0                             0   \n",
       "3                   1                0                             0   \n",
       "\n",
       "   category_Для бизнеса  ...  category_Работа  category_Транспорт  \\\n",
       "0                     0  ...                0                   0   \n",
       "1                     0  ...                0                   0   \n",
       "2                     0  ...                0                   0   \n",
       "3                     0  ...                0                   0   \n",
       "\n",
       "   category_Услуги  category_Хобби и отдых  relative_time  slided_hours  \\\n",
       "0                0                       0       0.443056      0.270833   \n",
       "1                0                       0       0.640972      0.479167   \n",
       "2                0                       0       0.815278      0.645833   \n",
       "3                0                       0       0.434722      0.270833   \n",
       "\n",
       "   cos_time  sin_time  week_day  region_enc_by_count  \n",
       "0 -0.936672  0.350207         2                70683  \n",
       "1 -0.632705 -0.774393         2                 4265  \n",
       "2  0.398749 -0.917060         3                36663  \n",
       "3 -0.917060  0.398749         1                 2986  \n",
       "\n",
       "[4 rows x 24 columns]"
      ]
     },
     "execution_count": 36,
     "metadata": {},
     "output_type": "execute_result"
    }
   ],
   "source": [
    "data_train = data_train.drop(['region'], axis=1)\n",
    "data_train.head(4)"
   ]
  },
  {
   "cell_type": "markdown",
   "metadata": {},
   "source": [
    "### Убираем лишнее "
   ]
  },
  {
   "cell_type": "code",
   "execution_count": 37,
   "metadata": {},
   "outputs": [],
   "source": [
    "data_train = data_train.drop(['id', 'item_id'], axis=1)"
   ]
  },
  {
   "cell_type": "markdown",
   "metadata": {},
   "source": [
    "### Разбиваем выборку"
   ]
  },
  {
   "cell_type": "code",
   "execution_count": 38,
   "metadata": {},
   "outputs": [],
   "source": [
    "X, y = data_train.drop(['item_views'], axis=1), data_train['item_views'].values\n",
    "X_train, X_test, y_train, y_test = train_test_split(X, y, test_size=0.33, random_state=42)"
   ]
  },
  {
   "cell_type": "markdown",
   "metadata": {},
   "source": [
    "### TfidfVectorizer"
   ]
  },
  {
   "cell_type": "code",
   "execution_count": 39,
   "metadata": {},
   "outputs": [],
   "source": [
    "vectorizer = TfidfVectorizer()\n",
    "tfidf_train = vectorizer.fit_transform(X_train['full_text'])\n",
    "tfidf_test = vectorizer.transform(X_test['full_text'])"
   ]
  },
  {
   "cell_type": "code",
   "execution_count": 40,
   "metadata": {},
   "outputs": [],
   "source": [
    "X_train = X_train.drop(['full_text'], axis=1)\n",
    "X_test = X_test.drop(['full_text'], axis=1)"
   ]
  },
  {
   "cell_type": "markdown",
   "metadata": {},
   "source": [
    "### Объединение матриц"
   ]
  },
  {
   "cell_type": "code",
   "execution_count": 41,
   "metadata": {},
   "outputs": [],
   "source": [
    "data_tr_val = csc_matrix(X_train.values)\n",
    "data_ts_val = csc_matrix(X_test.values)\n",
    "\n",
    "X_train = csc_matrix(hstack([data_tr_val, tfidf_train]))\n",
    "X_test = csc_matrix(hstack([data_ts_val, tfidf_test]))"
   ]
  },
  {
   "cell_type": "markdown",
   "metadata": {},
   "source": [
    "### Обучение модели"
   ]
  },
  {
   "cell_type": "code",
   "execution_count": 42,
   "metadata": {},
   "outputs": [
    {
     "name": "stdout",
     "output_type": "stream",
     "text": [
      "[15:02:57] WARNING: C:/Users/Administrator/workspace/xgboost-win64_release_1.4.0/src/objective/regression_obj.cu:171: reg:linear is now deprecated in favor of reg:squarederror.\n",
      "[15:02:57] WARNING: C:/Users/Administrator/workspace/xgboost-win64_release_1.4.0/src/learner.cc:573: \n",
      "Parameters: { \"silent\" } might not be used.\n",
      "\n",
      "  This may not be accurate due to some parameters are only used in language bindings but\n",
      "  passed down to XGBoost core.  Or some parameters are not used but slip through this\n",
      "  verification. Please open an issue if you find above cases.\n",
      "\n",
      "\n",
      "[0]\ttrain-rmse:0.90397\teval-rmse:0.90391\n",
      "[10]\ttrain-rmse:0.34611\teval-rmse:0.34811\n",
      "[20]\ttrain-rmse:0.18161\teval-rmse:0.18897\n",
      "[30]\ttrain-rmse:0.14551\teval-rmse:0.15706\n",
      "[40]\ttrain-rmse:0.13779\teval-rmse:0.15134\n",
      "[50]\ttrain-rmse:0.13610\teval-rmse:0.15028\n",
      "[60]\ttrain-rmse:0.13525\teval-rmse:0.14979\n",
      "[70]\ttrain-rmse:0.13431\teval-rmse:0.14934\n",
      "[80]\ttrain-rmse:0.13358\teval-rmse:0.14894\n",
      "[90]\ttrain-rmse:0.13274\teval-rmse:0.14849\n",
      "[100]\ttrain-rmse:0.13222\teval-rmse:0.14820\n",
      "[110]\ttrain-rmse:0.13138\teval-rmse:0.14781\n",
      "[120]\ttrain-rmse:0.13102\teval-rmse:0.14763\n",
      "[130]\ttrain-rmse:0.13043\teval-rmse:0.14738\n",
      "[140]\ttrain-rmse:0.12976\teval-rmse:0.14707\n",
      "[150]\ttrain-rmse:0.12934\teval-rmse:0.14688\n",
      "[160]\ttrain-rmse:0.12869\teval-rmse:0.14659\n",
      "[170]\ttrain-rmse:0.12825\teval-rmse:0.14641\n",
      "[180]\ttrain-rmse:0.12790\teval-rmse:0.14628\n",
      "[190]\ttrain-rmse:0.12759\teval-rmse:0.14615\n",
      "[199]\ttrain-rmse:0.12711\teval-rmse:0.14597\n",
      "0:05:02.810096\n"
     ]
    }
   ],
   "source": [
    "xgb_params = {\n",
    "    'objective': 'reg:linear',\n",
    "    'max_depth': 15,\n",
    "    'eta': 0.1,\n",
    "    'gamma' : 0,\n",
    "    'booster': 'gbtree',\n",
    "    \n",
    "    'alpha': 2.0,\n",
    "    'lambda': 0.1,\n",
    "    \n",
    "    'subsample': 0.9,\n",
    "    'colsample_bytree': 0.9,\n",
    "    'colsample_bylevel': 1.0,\n",
    "    \n",
    "    'min_child_weight': 1,\n",
    "    'silent': 1,\n",
    "    'seed': 1,\n",
    "    'nthread': 4,\n",
    "    'eval_metric':'rmse'\n",
    "}\n",
    "\n",
    "num_rounds = 200\n",
    "\n",
    "start = datetime.datetime.now()\n",
    "\n",
    "dtrain = xgb.DMatrix( X_train, label=np.log(y_train+1)) \n",
    "dtest = xgb.DMatrix( X_test, label=np.log(y_test+1)) \n",
    "\n",
    "watchlist = [(dtrain, 'train'), (dtest, 'eval')]\n",
    "eval_res ={}\n",
    "gbdt = xgb.train(xgb_params, dtrain,\n",
    "                 num_rounds, watchlist,\n",
    "                 early_stopping_rounds=500,\n",
    "                 verbose_eval=10,\n",
    "                 evals_result=eval_res)\n",
    "\n",
    "print (datetime.datetime.now() - start)"
   ]
  },
  {
   "cell_type": "code",
   "execution_count": 43,
   "metadata": {},
   "outputs": [
    {
     "data": {
      "text/plain": [
       "<AxesSubplot:title={'center':'Feature importance'}, xlabel='F score', ylabel='Features'>"
      ]
     },
     "execution_count": 43,
     "metadata": {},
     "output_type": "execute_result"
    },
    {
     "data": {
      "image/png": "[encoded data removed]",
      "text/plain": [
       "<Figure size 432x288 with 1 Axes>"
      ]
     },
     "metadata": {
      "needs_background": "light"
     },
     "output_type": "display_data"
    }
   ],
   "source": [
    "xgb.plot_importance(gbdt, max_num_features=100)"
   ]
  },
  {
   "cell_type": "code",
   "execution_count": null,
   "metadata": {},
   "outputs": [],
   "source": []
  }
 ],
 "metadata": {
  "kernelspec": {
   "display_name": "Python 3",
   "language": "python",
   "name": "python3"
  },
  "language_info": {
   "codemirror_mode": {
    "name": "ipython",
    "version": 3
   },
   "file_extension": ".py",
   "mimetype": "text/x-python",
   "name": "python",
   "nbconvert_exporter": "python",
   "pygments_lexer": "ipython3",
   "version": "3.9.6"
  }
 },
 "nbformat": 4,
 "nbformat_minor": 2
}
